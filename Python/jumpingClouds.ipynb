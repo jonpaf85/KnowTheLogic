{
 "cells": [
  {
   "cell_type": "code",
   "execution_count": 11,
   "metadata": {},
   "outputs": [],
   "source": [
    "def jumpingOnClouds(c):\n",
    "    for i in c:\n",
    "        print(i)"
   ]
  },
  {
   "cell_type": "code",
   "execution_count": 9,
   "metadata": {},
   "outputs": [],
   "source": [
    "c = [0,0,0,0,1,0] # 3\n",
    "d = [0, 0, 1, 0, 0, 1, 0] #4\n",
    "e = [0,0,0,0,1,0,0, 0, 1, 0, 0, 1, 0] #7\n",
    "f = [0,1,0] #1"
   ]
  },
  {
   "cell_type": "code",
   "execution_count": 12,
   "metadata": {},
   "outputs": [
    {
     "name": "stdout",
     "output_type": "stream",
     "text": [
      "0\n",
      "1\n",
      "0\n"
     ]
    }
   ],
   "source": [
    "jumpingOnClouds(f)"
   ]
  },
  {
   "cell_type": "code",
   "execution_count": 16,
   "metadata": {},
   "outputs": [
    {
     "name": "stdout",
     "output_type": "stream",
     "text": [
      "[0, 0, 0, 0, 1, 0]\n",
      "0 0\n",
      "0 0\n",
      "0 0\n",
      "0 0\n",
      "1 1\n",
      "0 0\n"
     ]
    }
   ],
   "source": [
    "print(c)\n",
    "for idx, cl in enumerate (c):\n",
    "    print (cl,c[idx])"
   ]
  },
  {
   "cell_type": "code",
   "execution_count": 22,
   "metadata": {},
   "outputs": [
    {
     "name": "stdout",
     "output_type": "stream",
     "text": [
      "[0, 0, 0, 0, 1, 0]\n",
      "0 0 0\n",
      "0 0 0\n",
      "0 0 1\n",
      "0 1 0\n"
     ]
    }
   ],
   "source": [
    "print(c)\n",
    "for i in range(0, len(c)-2):\n",
    "    print(c[i],c[i+1],c[i+2])"
   ]
  },
  {
   "cell_type": "code",
   "execution_count": 23,
   "metadata": {},
   "outputs": [
    {
     "data": {
      "text/plain": [
       "6"
      ]
     },
     "execution_count": 23,
     "metadata": {},
     "output_type": "execute_result"
    }
   ],
   "source": [
    "len(c)"
   ]
  },
  {
   "cell_type": "code",
   "execution_count": 55,
   "metadata": {},
   "outputs": [],
   "source": [
    "c = [0, 0, 0, 1, 0, 0]"
   ]
  },
  {
   "cell_type": "code",
   "execution_count": 61,
   "metadata": {},
   "outputs": [
    {
     "name": "stdout",
     "output_type": "stream",
     "text": [
      "[0, 0, 0, 0, 1, 0]\n",
      "\n",
      "Position:  0\n",
      "jumps so far are:   0\n",
      "Case 1 advance 2 positions:    2\n",
      "\n",
      "Position:  2\n",
      "jumps so far are:   1\n",
      "Case 2 advance 1 positions:    3\n",
      "\n",
      "Position:  3\n",
      "jumps so far are:   2\n",
      "Case 1 advance 2 positions:    5\n",
      "\n",
      "Position:  5\n",
      "jumps so far are:   3\n",
      "Case 1 advance 2 positions:    5\n",
      "\n"
     ]
    }
   ],
   "source": [
    "print(c)\n",
    "print('')\n",
    "pos = 0\n",
    "jumps = 0\n",
    "while pos <= (len(c)-1):\n",
    "    print('Position: ',pos)\n",
    "    print('jumps so far are:  ' , jumps)\n",
    "    try:\n",
    "        if(c[pos+1] == 0): # 0 0 _\n",
    "            try:\n",
    "                if (pos+1 == len(c)-1): # 0 0-END\n",
    "                    jumps +=1\n",
    "                    pos = pos +1\n",
    "                    print ('Case 2 advance 1 positions:   ',pos)  \n",
    "                    print ('')                                 \n",
    "                elif(c[pos+2]==0): # 0 0 0\n",
    "                    jumps +=1\n",
    "                    pos = pos + 2\n",
    "                    print ('Case 1 advance 2 positions:   ',pos)\n",
    "                    print ('')\n",
    "                elif(c[pos+2]==1): # 0 0 1\n",
    "                    jumps +=1\n",
    "                    pos = pos +1\n",
    "                    print ('Case 2 advance 1 positions:   ',pos)\n",
    "                    print ('')\n",
    "            except:\n",
    "                print ('reached limit')\n",
    "                break\n",
    "        elif (c[pos+1] == 1): #0 1 _ must be 0\n",
    "            jumps +=1\n",
    "            pos = pos + 2\n",
    "            print ('Case 1 advance 2 positions:   ',pos)\n",
    "            print ('')\n",
    "    except:\n",
    "            print ('Case 1 advance 2 positions:   ',pos)\n",
    "            print ('')\n",
    "            break\n",
    "            \n",
    "                    \n",
    "                    \n",
    "                    \n",
    "            \n",
    "        \n",
    "        \n",
    "        \n",
    "        \n",
    "        "
   ]
  },
  {
   "cell_type": "code",
   "execution_count": 60,
   "metadata": {},
   "outputs": [
    {
     "data": {
      "text/plain": [
       "6"
      ]
     },
     "execution_count": 60,
     "metadata": {},
     "output_type": "execute_result"
    }
   ],
   "source": [
    "len(c)"
   ]
  },
  {
   "cell_type": "code",
   "execution_count": 57,
   "metadata": {},
   "outputs": [
    {
     "data": {
      "text/plain": [
       "2"
      ]
     },
     "execution_count": 57,
     "metadata": {},
     "output_type": "execute_result"
    }
   ],
   "source": [
    "jumps"
   ]
  },
  {
   "cell_type": "code",
   "execution_count": 58,
   "metadata": {},
   "outputs": [
    {
     "name": "stdout",
     "output_type": "stream",
     "text": [
      "[0, 0, 0, 1, 0, 0]\n",
      "\n",
      "Position:  0\n",
      "jumps are:   0\n",
      "available movements:   [0, 0, 0]\n",
      "Case 1 advance 2 positions:    2\n",
      "\n",
      "Position:  2\n",
      "jumps are:   1\n",
      "available movements:   [0, 1, 0]\n",
      "Case 3 advance 2 positions:    4\n",
      "\n",
      "Position:  4\n",
      "jumps are:   2\n",
      "achieved limit\n"
     ]
    }
   ],
   "source": [
    "print(d)\n",
    "print('')\n",
    "pos = 0\n",
    "jumps = 0\n",
    "while pos <= (len(d)-1):\n",
    "    print('Position: ',pos)\n",
    "    print('jumps are:  ' , jumps)\n",
    "    try:\n",
    "        nxt = [d[pos],d[pos+1],d[pos+2]]\n",
    "        print('available movements:  ', nxt)\n",
    "        \n",
    "        \n",
    "        if (d[pos+1] == 0 and d[pos+2] ==0):\n",
    "            jumps +=1\n",
    "            pos = pos + 2\n",
    "            print ('Case 1 advance 2 positions:   ',pos)\n",
    "            print('')\n",
    "        elif (d[pos+1] == 0 and d[pos+2] ==1):\n",
    "            jumps +=1\n",
    "            pos = pos + 1\n",
    "            print ('Case 2 advance 1 positions:   ',pos)\n",
    "            print('')\n",
    "        elif (d[pos+1] == 1 and d[pos+2] ==0):  \n",
    "            jumps +=1\n",
    "            pos = pos + 2\n",
    "            print ('Case 3 advance 2 positions:   ',pos) \n",
    "            print('')\n",
    "        \n",
    "        else:\n",
    "            print ('enter an else:   ')\n",
    "            pos = pos + 1\n",
    "            \n",
    "    except:\n",
    "        print('achieved limit')\n",
    "        break\n",
    "    \n",
    "    #pos +=1"
   ]
  },
  {
   "cell_type": "code",
   "execution_count": null,
   "metadata": {},
   "outputs": [],
   "source": []
  }
 ],
 "metadata": {
  "kernelspec": {
   "display_name": "Python 3",
   "language": "python",
   "name": "python3"
  },
  "language_info": {
   "codemirror_mode": {
    "name": "ipython",
    "version": 3
   },
   "file_extension": ".py",
   "mimetype": "text/x-python",
   "name": "python",
   "nbconvert_exporter": "python",
   "pygments_lexer": "ipython3",
   "version": "3.7.6"
  }
 },
 "nbformat": 4,
 "nbformat_minor": 4
}
