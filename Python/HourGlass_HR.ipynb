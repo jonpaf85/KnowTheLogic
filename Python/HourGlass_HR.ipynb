{
 "cells": [
  {
   "cell_type": "code",
   "execution_count": 2,
   "metadata": {},
   "outputs": [],
   "source": [
    "import random"
   ]
  },
  {
   "cell_type": "code",
   "execution_count": 32,
   "metadata": {},
   "outputs": [
    {
     "data": {
      "text/plain": [
       "[[0, 0, 0, 1, -1, 0],\n",
       " [1, -1, 0, -1, 0, 1],\n",
       " [1, -1, 0, 0, 0, -1],\n",
       " [-1, 0, 0, 1, 1, 1],\n",
       " [0, 0, -1, 1, 0, 1],\n",
       " [0, -1, 0, -1, 0, -1]]"
      ]
     },
     "execution_count": 32,
     "metadata": {},
     "output_type": "execute_result"
    }
   ],
   "source": [
    "rdx = [[random.randrange(-1,2) for e in range(6)] for e in range(6)]\n",
    "rdx"
   ]
  },
  {
   "cell_type": "code",
   "execution_count": 33,
   "metadata": {},
   "outputs": [
    {
     "name": "stdout",
     "output_type": "stream",
     "text": [
      "6\n",
      "6\n"
     ]
    }
   ],
   "source": [
    "col,row = [len(rdx), len(rdx[0])]\n",
    "print(col)\n",
    "print(row)"
   ]
  },
  {
   "cell_type": "code",
   "execution_count": 34,
   "metadata": {},
   "outputs": [
    {
     "data": {
      "text/plain": [
       "[-1, 0, -1, -1, -2, -1, 1, 3, -1, -1, 1, 2, -2, -2, 2, 1]"
      ]
     },
     "execution_count": 34,
     "metadata": {},
     "output_type": "execute_result"
    }
   ],
   "source": [
    "hg_sum_ls = []\n",
    "\n",
    "for i in range(col-2): #len - 2\n",
    "    for j in range(row-2): #len -2\n",
    "        hg = [rdx[i][j],rdx[i][j+1],rdx[i][j+2],rdx[i+1][j+1],rdx[i+2][j],rdx[i+2][j+1],rdx[i+2][j+2]]\n",
    "        #print(hg)\n",
    "        hg_sum = sum (hg)\n",
    "        hg_sum_ls.append(hg_sum)\n",
    "        #print (hg_sum_ls)\n",
    "\n",
    "hg_sum_ls"
   ]
  },
  {
   "cell_type": "code",
   "execution_count": 35,
   "metadata": {},
   "outputs": [
    {
     "data": {
      "text/plain": [
       "3"
      ]
     },
     "execution_count": 35,
     "metadata": {},
     "output_type": "execute_result"
    }
   ],
   "source": [
    "hg_max = max(hg_sum_ls)\n",
    "hg_max"
   ]
  },
  {
   "cell_type": "code",
   "execution_count": null,
   "metadata": {},
   "outputs": [],
   "source": []
  }
 ],
 "metadata": {
  "kernelspec": {
   "display_name": "Python 3",
   "language": "python",
   "name": "python3"
  },
  "language_info": {
   "codemirror_mode": {
    "name": "ipython",
    "version": 3
   },
   "file_extension": ".py",
   "mimetype": "text/x-python",
   "name": "python",
   "nbconvert_exporter": "python",
   "pygments_lexer": "ipython3",
   "version": "3.7.6"
  }
 },
 "nbformat": 4,
 "nbformat_minor": 4
}
